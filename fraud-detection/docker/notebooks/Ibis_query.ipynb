{
 "cells": [
  {
   "cell_type": "code",
   "execution_count": 2,
   "id": "a8ee2430-b7ea-460c-bbbc-a9860a1d625a",
   "metadata": {},
   "outputs": [
    {
     "name": "stdout",
     "output_type": "stream",
     "text": [
      "('dbd3cd40-8929-4f6c-b866-02fc17705258', 'PAYMENT', 68.72, 'C919757319136', 1000.33, 931.61, 'M493317087800', 0.0, 0.0, datetime.datetime(2024, 11, 8, 18, 2, 51, 788000, tzinfo=<UTC>))\n",
      "('5bad897a-9ea1-4512-a3ed-636f2047b588', 'CASH_OUT', 306.34, 'C999738574116', 1000.9, 694.56, '', 0.0, 0.0, datetime.datetime(2024, 11, 8, 18, 2, 51, 788000, tzinfo=<UTC>))\n",
      "('2d8069fd-21eb-4524-9c7f-a1ebfd2772c1', 'TRANSFER', 429.5, 'C266457565953', 1000.49, 570.99, 'C781237413166', 1007.36, 1436.86, datetime.datetime(2024, 11, 8, 18, 2, 51, 788000, tzinfo=<UTC>))\n",
      "('a8cb35b7-fce7-4daf-83d8-2598e1bb86b5', 'PAYMENT', 118.7, 'C288310891514', 1004.79, 886.09, 'M175162039950', 0.0, 0.0, datetime.datetime(2024, 11, 8, 18, 2, 51, 788000, tzinfo=<UTC>))\n",
      "('f40cab22-872d-41f3-80cc-b2074f20070c', 'CASH_OUT', 116.71, 'C143509966847', 1015.73, 899.02, '', 0.0, 0.0, datetime.datetime(2024, 11, 8, 18, 2, 51, 788000, tzinfo=<UTC>))\n",
      "('700b5909-715a-4d8c-9f82-1378c3f1537c', 'PAYMENT', 911.33, 'C792252430541', 1000.94, 89.61, 'M784869957458', 0.0, 0.0, datetime.datetime(2024, 11, 8, 18, 2, 51, 788000, tzinfo=<UTC>))\n",
      "('5572696c-20b0-42e1-a322-39eaf0241484', 'TRANSFER', 390.28, 'C394897981348', 828.56, 438.28, 'C209441734508', 1000.83, 1391.11, datetime.datetime(2024, 11, 8, 18, 2, 51, 788000, tzinfo=<UTC>))\n",
      "('09bfdf3f-1ad5-42ef-9e7b-0862ff3fc9a9', 'CASH_OUT', 230.05, 'C526600159810', 1006.95, 776.9, '', 0.0, 0.0, datetime.datetime(2024, 11, 8, 18, 2, 51, 788000, tzinfo=<UTC>))\n",
      "('8710760b-2937-4e16-b30f-0c19a6ade62a', 'PAYMENT', 717.43, 'C424697110973', 1012.17, 294.74, 'M341032691076', 0.0, 0.0, datetime.datetime(2024, 11, 8, 18, 2, 51, 788000, tzinfo=<UTC>))\n",
      "('090e5dd0-5e80-4b39-824b-b2d2a3ff075f', 'PAYMENT', 259.67, 'C617849423785', 1007.1, 747.43, 'M348263903907', 0.0, 0.0, datetime.datetime(2024, 11, 8, 18, 2, 51, 788000, tzinfo=<UTC>))\n",
      "('3ca1d8c0-2530-4ee2-baaa-ee10e36534fc', 'PAYMENT', 1016.17, 'C444234499935', 1016.17, 0.0, 'M228904445681', 0.0, 0.0, datetime.datetime(2024, 11, 8, 18, 2, 52, 7000, tzinfo=<UTC>))\n",
      "('70336953-0d71-4779-9909-90c72fa809df', 'TRANSFER', 760.88, 'C969208020555', 1001.26, 240.38, 'C556123357048', 1009.22, 1770.1, datetime.datetime(2024, 11, 8, 18, 2, 53, 237000, tzinfo=<UTC>))\n",
      "('3305e764-5b83-4c52-b18e-55837c0eda3e', 'TRANSFER', 132.31, 'C969208020555', 240.38, 108.07, 'C172386413377', 1001.34, 1133.65, datetime.datetime(2024, 11, 8, 18, 2, 54, 254000, tzinfo=<UTC>))\n",
      "('a219dc8d-b05b-414a-8170-a3b6f5a07df3', 'TRANSFER', 12.5, 'C969208020555', 108.07, 95.57, 'C476243223120', 1009.06, 1021.56, datetime.datetime(2024, 11, 8, 18, 2, 55, 265000, tzinfo=<UTC>))\n",
      "('c98f1c16-d050-45a2-8119-b49f6fee8ae0', 'TRANSFER', 48.42, 'C969208020555', 95.57, 47.15, 'C273257267258', 1005.18, 1053.6, datetime.datetime(2024, 11, 8, 18, 2, 56, 277000, tzinfo=<UTC>))\n",
      "('16f0fd64-f793-475e-af5e-c4a529c33711', 'TRANSFER', 0.14, 'C969208020555', 47.15, 47.01, 'C906929212326', 1015.73, 1015.87, datetime.datetime(2024, 11, 8, 18, 2, 57, 294000, tzinfo=<UTC>))\n",
      "('f50c8d21-a33d-4370-a122-ab8cdd58f796', 'CASH_OUT', 351.83, 'C386860269384', 1002.67, 650.84, '', 0.0, 0.0, datetime.datetime(2024, 11, 8, 18, 2, 59, 133000, tzinfo=<UTC>))\n",
      "('ec96d47c-f35a-457d-a8d8-974098849f7a', 'PAYMENT', 406.58, 'C142386509321', 1000.73, 594.15, 'M959824099197', 0.0, 0.0, datetime.datetime(2024, 11, 8, 18, 2, 59, 133000, tzinfo=<UTC>))\n",
      "('e075440d-14fa-4c6e-aacf-7acd18f9f133', 'TRANSFER', 729.3, 'C937570373806', 1038.18, 308.88, 'C897289048044', 1023.62, 1752.92, datetime.datetime(2024, 11, 8, 18, 2, 59, 133000, tzinfo=<UTC>))\n",
      "('5921d4e3-c6c0-40c0-835d-7d659a4eed10', 'PAYMENT', 741.36, 'C930512581586', 1011.33, 269.97, 'M323227487828', 0.0, 0.0, datetime.datetime(2024, 11, 8, 18, 2, 59, 133000, tzinfo=<UTC>))\n",
      "('f59562e4-329b-49ee-8139-60e100ae4a18', 'CASH_OUT', 411.1, 'C981165063034', 1010.5, 599.4, '', 0.0, 0.0, datetime.datetime(2024, 11, 8, 18, 2, 59, 133000, tzinfo=<UTC>))\n",
      "('1072afc5-b4ae-4098-a251-3ad8e82a8be3', 'PAYMENT', 1693.35, 'C259247250303', 1002.19, 2695.54, '', 0.0, 0.0, datetime.datetime(2024, 11, 8, 18, 2, 59, 133000, tzinfo=<UTC>))\n",
      "('13dd4d83-f570-4253-805c-ed6a18348b72', 'TRANSFER', 877.93, 'C490407318219', 1000.59, 122.66, 'C504646692849', 1011.21, 1889.14, datetime.datetime(2024, 11, 8, 18, 2, 59, 133000, tzinfo=<UTC>))\n",
      "('71efa144-faef-4ab6-b9d9-be424d3df29e', 'PAYMENT', 510.28, 'C745366078795', 1015.87, 505.59, 'M939862593980', 0.0, 0.0, datetime.datetime(2024, 11, 8, 18, 2, 59, 133000, tzinfo=<UTC>))\n",
      "('3dd701a0-a4af-4c3c-8a88-bd906d7fdcf2', 'TRANSFER', 285.93, 'C540325944053', 1000.43, 714.5, 'C801214942314', 1015.29, 1301.22, datetime.datetime(2024, 11, 8, 18, 2, 59, 133000, tzinfo=<UTC>))\n",
      "('3d0f9d08-00f0-4e09-a2e7-95aa71103dfd', 'PAYMENT', 12.97, 'C773849313015', 1009.56, 996.59, 'M898683282442', 0.0, 0.0, datetime.datetime(2024, 11, 8, 18, 2, 59, 133000, tzinfo=<UTC>))\n",
      "('51347c51-8d3d-4319-a601-8e10c29944a9', 'TRANSFER', 910.26, 'C503579689601', 1029.47, 119.21, 'C926581994791', 1005.23, 1915.49, datetime.datetime(2024, 11, 8, 18, 3, 0, 161000, tzinfo=<UTC>))\n",
      "('84f0d22d-1e78-4950-96d2-de67ae54499a', 'TRANSFER', 942.17, 'C881473486417', 1000.04, 57.87, 'C310659393642', 1015.49, 1957.66, datetime.datetime(2024, 11, 8, 18, 3, 0, 161000, tzinfo=<UTC>))\n",
      "('46c1fb13-c5e7-4af2-8e6f-7343f85fdf5e', 'TRANSFER', 928.09, 'C763672413585', 1017.16, 89.07, 'C625691798382', 1001.23, 1929.32, datetime.datetime(2024, 11, 8, 18, 3, 0, 161000, tzinfo=<UTC>))\n",
      "('f83c5e23-62b0-49e5-996a-185476486f15', 'PAYMENT', 369.2, 'C335966365901', 1005.02, 635.82, 'M369215962205', 0.0, 0.0, datetime.datetime(2024, 11, 8, 18, 3, 0, 161000, tzinfo=<UTC>))\n",
      "('3fb4aeb8-5609-494c-9d59-d82e4086d8f0', 'TRANSFER', 449.19, 'C331264703833', 1000.45, 551.26, 'C278807030617', 1001.14, 1450.33, datetime.datetime(2024, 11, 8, 18, 3, 0, 161000, tzinfo=<UTC>))\n",
      "('30be3bc5-3955-404e-93b0-5476e003cc4e', 'CASH_OUT', 59.64, 'C177644317178', 1003.62, 943.98, '', 0.0, 0.0, datetime.datetime(2024, 11, 8, 18, 3, 0, 161000, tzinfo=<UTC>))\n",
      "('ae0ea534-6979-4844-be08-93da9481e2a3', 'TRANSFER', 112.91, 'C412909137976', 1023.52, 910.61, 'C982964936577', 1016.13, 1129.04, datetime.datetime(2024, 11, 8, 18, 3, 0, 161000, tzinfo=<UTC>))\n",
      "('2aa312ff-b5d0-45a9-b5ab-fd5bb79e529d', 'TRANSFER', 122.95, 'C305344788601', 1002.55, 879.6, 'C372764597499', 1007.13, 1130.08, datetime.datetime(2024, 11, 8, 18, 3, 0, 161000, tzinfo=<UTC>))\n",
      "('343b7e0f-57f1-42e9-a82f-6aa1650f1fc9', 'CASH_OUT', 993.98, 'C343913148499', 1001.48, 7.5, '', 0.0, 0.0, datetime.datetime(2024, 11, 8, 18, 3, 0, 161000, tzinfo=<UTC>))\n",
      "('8db770b2-ef2a-46ac-8f1c-9ba131de790c', 'PAYMENT', 811.0, 'C453566401462', 1007.14, 196.14, 'M172153254941', 0.0, 0.0, datetime.datetime(2024, 11, 8, 18, 3, 0, 161000, tzinfo=<UTC>))\n",
      "('a3ae5db0-5ffa-4629-9729-82e0ffd99cd3', 'TRANSFER', 254.37, 'C115235067067', 1005.59, 751.22, 'C587179922145', 1000.58, 1254.95, datetime.datetime(2024, 11, 8, 18, 3, 1, 211000, tzinfo=<UTC>))\n",
      "('c4629bed-ae8f-4926-9685-f80b5e1ff4ca', 'PAYMENT', 852.41, 'C918321954446', 1010.62, 158.21, 'M896018084116', 0.0, 0.0, datetime.datetime(2024, 11, 8, 18, 3, 1, 211000, tzinfo=<UTC>))\n",
      "('3838a14e-6a8b-4ab0-b620-2b4d27890c0a', 'CASH_OUT', 492.08, 'C972589616691', 1000.52, 508.44, '', 0.0, 0.0, datetime.datetime(2024, 11, 8, 18, 3, 1, 211000, tzinfo=<UTC>))\n",
      "('4d264beb-70c6-426c-96a9-92d45f5305e9', 'PAYMENT', 274.68, 'C117185980894', 1000.76, 726.08, 'M657626422009', 0.0, 0.0, datetime.datetime(2024, 11, 8, 18, 3, 1, 211000, tzinfo=<UTC>))\n",
      "('a147195d-b347-4bb6-b50f-ff838a37a9d1', 'PAYMENT', 357.44, 'C642516574021', 1018.59, 661.15, 'M732395715109', 0.0, 0.0, datetime.datetime(2024, 11, 8, 18, 3, 1, 211000, tzinfo=<UTC>))\n",
      "('3cf37b0a-6791-445a-9fae-dea665a7fca3', 'PAYMENT', 810.51, 'C756259779888', 1005.29, 194.78, 'M174864966694', 0.0, 0.0, datetime.datetime(2024, 11, 8, 18, 3, 1, 211000, tzinfo=<UTC>))\n",
      "('3ab1dfb0-ac3c-4769-9516-9dadf39b46b9', 'PAYMENT', 521.98, 'C323745791747', 1003.35, 481.37, 'M283860607609', 0.0, 0.0, datetime.datetime(2024, 11, 8, 18, 3, 1, 211000, tzinfo=<UTC>))\n",
      "('b8580b43-d117-4b85-a915-a1e78cb95a6f', 'TRANSFER', 20.8, 'C689276318710', 1037.06, 1016.26, 'C167401990360', 1005.98, 1026.78, datetime.datetime(2024, 11, 8, 18, 3, 1, 211000, tzinfo=<UTC>))\n",
      "('6336c7ca-30a2-4dc9-a9a6-8d983d03c3ec', 'PAYMENT', 812.47, 'C237369334387', 1014.99, 202.52, 'M463196462754', 0.0, 0.0, datetime.datetime(2024, 11, 8, 18, 3, 1, 211000, tzinfo=<UTC>))\n",
      "('d74dcf7e-4cb1-4e4b-b09a-223c36c77b22', 'TRANSFER', 136.74, 'C351287136394', 1007.0, 870.26, 'C980174316342', 1003.84, 1140.58, datetime.datetime(2024, 11, 8, 18, 3, 1, 211000, tzinfo=<UTC>))\n",
      "('e5d06635-027c-4a66-b1b2-0cf866e1ead3', 'PAYMENT', 192.22, 'C794720241213', 1000.11, 807.89, 'M344124840469', 0.0, 0.0, datetime.datetime(2024, 11, 8, 18, 3, 2, 235000, tzinfo=<UTC>))\n",
      "('532714dd-ae0b-427e-a91b-4e9ed2c26df1', 'PAYMENT', 311.19, 'C199960508535', 1004.74, 693.55, 'M135074325376', 0.0, 0.0, datetime.datetime(2024, 11, 8, 18, 3, 2, 235000, tzinfo=<UTC>))\n",
      "('2180663e-a5df-4bba-8d8f-46e87b4d05de', 'TRANSFER', 126.92, 'C288539480525', 1009.71, 882.79, 'C782500564695', 1002.64, 1129.56, datetime.datetime(2024, 11, 8, 18, 3, 2, 235000, tzinfo=<UTC>))\n",
      "('716fd3ce-640d-4654-a240-0cf44d653ab2', 'TRANSFER', 806.83, 'C881230053291', 1004.28, 197.45, 'C250149696647', 1005.4, 1812.23, datetime.datetime(2024, 11, 8, 18, 3, 2, 235000, tzinfo=<UTC>))\n",
      "('d30b70c2-12d3-407d-9c59-aee4c76b9dc0', 'TRANSFER', 193.3, 'C106966056164', 1006.87, 813.57, 'C117059211687', 1007.32, 1200.62, datetime.datetime(2024, 11, 8, 18, 3, 2, 235000, tzinfo=<UTC>))\n",
      "('3b978384-6f77-4520-8d31-de33267edf01', 'PAYMENT', 567.8, 'C814124443272', 1010.64, 442.84, 'M197404574817', 0.0, 0.0, datetime.datetime(2024, 11, 8, 18, 3, 2, 235000, tzinfo=<UTC>))\n",
      "('74ae6d7a-39a4-4995-942a-1bcb408baace', 'TRANSFER', 578.87, 'C686371028896', 1005.69, 426.82, 'C746032155629', 1005.55, 1584.42, datetime.datetime(2024, 11, 8, 18, 3, 2, 235000, tzinfo=<UTC>))\n",
      "('ce495b8b-cd8c-42ae-9c98-010658dc2a00', 'PAYMENT', 423.69, 'C261992834852', 1047.71, 624.02, 'M568088710491', 0.0, 0.0, datetime.datetime(2024, 11, 8, 18, 3, 2, 235000, tzinfo=<UTC>))\n",
      "('8da96a96-c066-4c2a-9d12-89f675259ab4', 'TRANSFER', 515.08, 'C632095040854', 1000.98, 485.9, 'C295540954896', 1010.63, 1525.71, datetime.datetime(2024, 11, 8, 18, 3, 2, 235000, tzinfo=<UTC>))\n",
      "('5264d2d8-13dd-4a12-849d-56eaa969d784', 'CASH_OUT', 513.09, 'C527655750638', 1009.72, 496.63, '', 0.0, 0.0, datetime.datetime(2024, 11, 8, 18, 3, 2, 235000, tzinfo=<UTC>))\n"
     ]
    },
    {
     "ename": "KeyboardInterrupt",
     "evalue": "",
     "output_type": "error",
     "traceback": [
      "\u001b[0;31m---------------------------------------------------------------------------\u001b[0m",
      "\u001b[0;31mKeyboardInterrupt\u001b[0m                         Traceback (most recent call last)",
      "Cell \u001b[0;32mIn[2], line 16\u001b[0m\n\u001b[1;32m     13\u001b[0m ans \u001b[38;5;241m=\u001b[39m con\u001b[38;5;241m.\u001b[39mtable(table_name)\n\u001b[1;32m     15\u001b[0m result \u001b[38;5;241m=\u001b[39m ans\u001b[38;5;241m.\u001b[39mexecute()\n\u001b[0;32m---> 16\u001b[0m \u001b[38;5;28;43;01mfor\u001b[39;49;00m\u001b[43m \u001b[49m\u001b[43mresults\u001b[49m\u001b[43m \u001b[49m\u001b[38;5;129;43;01min\u001b[39;49;00m\u001b[43m \u001b[49m\u001b[43mresult\u001b[49m\u001b[43m:\u001b[49m\n\u001b[1;32m     17\u001b[0m \u001b[43m    \u001b[49m\u001b[38;5;28;43mprint\u001b[39;49m\u001b[43m(\u001b[49m\u001b[43mresults\u001b[49m\u001b[43m)\u001b[49m\n",
      "File \u001b[0;32m/opt/conda/lib/python3.12/site-packages/proton_driver/client.py:152\u001b[0m, in \u001b[0;36mClient.iter_receive_result\u001b[0;34m(self, with_column_types)\u001b[0m\n\u001b[1;32m    146\u001b[0m gen \u001b[38;5;241m=\u001b[39m \u001b[38;5;28mself\u001b[39m\u001b[38;5;241m.\u001b[39mpacket_generator()\n\u001b[1;32m    148\u001b[0m result \u001b[38;5;241m=\u001b[39m \u001b[38;5;28mself\u001b[39m\u001b[38;5;241m.\u001b[39miter_query_result_cls(\n\u001b[1;32m    149\u001b[0m     gen, with_column_types\u001b[38;5;241m=\u001b[39mwith_column_types\n\u001b[1;32m    150\u001b[0m )\n\u001b[0;32m--> 152\u001b[0m \u001b[43m\u001b[49m\u001b[38;5;28;43;01mfor\u001b[39;49;00m\u001b[43m \u001b[49m\u001b[43mrows\u001b[49m\u001b[43m \u001b[49m\u001b[38;5;129;43;01min\u001b[39;49;00m\u001b[43m \u001b[49m\u001b[43mresult\u001b[49m\u001b[43m:\u001b[49m\n\u001b[1;32m    153\u001b[0m \u001b[43m    \u001b[49m\u001b[38;5;28;43;01mfor\u001b[39;49;00m\u001b[43m \u001b[49m\u001b[43mrow\u001b[49m\u001b[43m \u001b[49m\u001b[38;5;129;43;01min\u001b[39;49;00m\u001b[43m \u001b[49m\u001b[43mrows\u001b[49m\u001b[43m:\u001b[49m\n\u001b[1;32m    154\u001b[0m \u001b[43m        \u001b[49m\u001b[38;5;28;43;01myield\u001b[39;49;00m\u001b[43m \u001b[49m\u001b[43mrow\u001b[49m\n",
      "File \u001b[0;32m/opt/conda/lib/python3.12/site-packages/proton_driver/result.py:114\u001b[0m, in \u001b[0;36mIterQueryResult.__next__\u001b[0;34m(self)\u001b[0m\n\u001b[1;32m    113\u001b[0m \u001b[38;5;28;01mdef\u001b[39;00m \u001b[38;5;21m__next__\u001b[39m(\u001b[38;5;28mself\u001b[39m):\n\u001b[0;32m--> 114\u001b[0m     packet \u001b[38;5;241m=\u001b[39m \u001b[38;5;28;43mnext\u001b[39;49m\u001b[43m(\u001b[49m\u001b[38;5;28;43mself\u001b[39;49m\u001b[38;5;241;43m.\u001b[39;49m\u001b[43mpacket_generator\u001b[49m\u001b[43m)\u001b[49m\n\u001b[1;32m    115\u001b[0m     block \u001b[38;5;241m=\u001b[39m \u001b[38;5;28mgetattr\u001b[39m(packet, \u001b[38;5;124m'\u001b[39m\u001b[38;5;124mblock\u001b[39m\u001b[38;5;124m'\u001b[39m, \u001b[38;5;28;01mNone\u001b[39;00m)\n\u001b[1;32m    116\u001b[0m     \u001b[38;5;28;01mif\u001b[39;00m block \u001b[38;5;129;01mis\u001b[39;00m \u001b[38;5;28;01mNone\u001b[39;00m:\n",
      "File \u001b[0;32m/opt/conda/lib/python3.12/site-packages/proton_driver/client.py:159\u001b[0m, in \u001b[0;36mClient.packet_generator\u001b[0;34m(self)\u001b[0m\n\u001b[1;32m    157\u001b[0m \u001b[38;5;28;01mwhile\u001b[39;00m \u001b[38;5;28;01mTrue\u001b[39;00m:\n\u001b[1;32m    158\u001b[0m     \u001b[38;5;28;01mtry\u001b[39;00m:\n\u001b[0;32m--> 159\u001b[0m         packet \u001b[38;5;241m=\u001b[39m \u001b[38;5;28;43mself\u001b[39;49m\u001b[38;5;241;43m.\u001b[39;49m\u001b[43mreceive_packet\u001b[49m\u001b[43m(\u001b[49m\u001b[43m)\u001b[49m\n\u001b[1;32m    160\u001b[0m         \u001b[38;5;28;01mif\u001b[39;00m \u001b[38;5;129;01mnot\u001b[39;00m packet:\n\u001b[1;32m    161\u001b[0m             \u001b[38;5;28;01mbreak\u001b[39;00m\n",
      "File \u001b[0;32m/opt/conda/lib/python3.12/site-packages/proton_driver/client.py:173\u001b[0m, in \u001b[0;36mClient.receive_packet\u001b[0;34m(self)\u001b[0m\n\u001b[1;32m    172\u001b[0m \u001b[38;5;28;01mdef\u001b[39;00m \u001b[38;5;21mreceive_packet\u001b[39m(\u001b[38;5;28mself\u001b[39m):\n\u001b[0;32m--> 173\u001b[0m     packet \u001b[38;5;241m=\u001b[39m \u001b[38;5;28;43mself\u001b[39;49m\u001b[38;5;241;43m.\u001b[39;49m\u001b[43mconnection\u001b[49m\u001b[38;5;241;43m.\u001b[39;49m\u001b[43mreceive_packet\u001b[49m\u001b[43m(\u001b[49m\u001b[43m)\u001b[49m\n\u001b[1;32m    175\u001b[0m     \u001b[38;5;28;01mif\u001b[39;00m packet\u001b[38;5;241m.\u001b[39mtype \u001b[38;5;241m==\u001b[39m ServerPacketTypes\u001b[38;5;241m.\u001b[39mEXCEPTION:\n\u001b[1;32m    176\u001b[0m         \u001b[38;5;28;01mraise\u001b[39;00m packet\u001b[38;5;241m.\u001b[39mexception\n",
      "File \u001b[0;32m/opt/conda/lib/python3.12/site-packages/proton_driver/connection.py:482\u001b[0m, in \u001b[0;36mConnection.receive_packet\u001b[0;34m(self)\u001b[0m\n\u001b[1;32m    479\u001b[0m \u001b[38;5;28;01mdef\u001b[39;00m \u001b[38;5;21mreceive_packet\u001b[39m(\u001b[38;5;28mself\u001b[39m):\n\u001b[1;32m    480\u001b[0m     packet \u001b[38;5;241m=\u001b[39m Packet()\n\u001b[0;32m--> 482\u001b[0m     packet\u001b[38;5;241m.\u001b[39mtype \u001b[38;5;241m=\u001b[39m packet_type \u001b[38;5;241m=\u001b[39m \u001b[43mread_varint\u001b[49m\u001b[43m(\u001b[49m\u001b[38;5;28;43mself\u001b[39;49m\u001b[38;5;241;43m.\u001b[39;49m\u001b[43mfin\u001b[49m\u001b[43m)\u001b[49m\n\u001b[1;32m    484\u001b[0m     \u001b[38;5;28;01mif\u001b[39;00m packet_type \u001b[38;5;241m==\u001b[39m ServerPacketTypes\u001b[38;5;241m.\u001b[39mDATA:\n\u001b[1;32m    485\u001b[0m         packet\u001b[38;5;241m.\u001b[39mblock \u001b[38;5;241m=\u001b[39m \u001b[38;5;28mself\u001b[39m\u001b[38;5;241m.\u001b[39mreceive_data()\n",
      "File \u001b[0;32mproton_driver/varint.pyx:62\u001b[0m, in \u001b[0;36mproton_driver.varint.read_varint\u001b[0;34m()\u001b[0m\n",
      "File \u001b[0;32mproton_driver/bufferedreader.pyx:55\u001b[0m, in \u001b[0;36mproton_driver.bufferedreader.BufferedReader.read_one\u001b[0;34m()\u001b[0m\n",
      "File \u001b[0;32mproton_driver/bufferedreader.pyx:237\u001b[0m, in \u001b[0;36mproton_driver.bufferedreader.BufferedSocketReader.read_into_buffer\u001b[0;34m()\u001b[0m\n",
      "\u001b[0;31mKeyboardInterrupt\u001b[0m: "
     ]
    }
   ],
   "source": [
    "import ibis\n",
    "import warnings; \n",
    "warnings.filterwarnings('ignore')\n",
    "\n",
    "con = ibis.timeplus.connect(\n",
    "           host=\"timeplus\",\n",
    "           port=8463,\n",
    "           password=\"timeplus@t+\",\n",
    "           user=\"proton\",\n",
    "       )\n",
    "\n",
    "table_name = \"online_payments\"\n",
    "ans = con.table(table_name)\n",
    "\n",
    "result = ans.execute()\n",
    "for results in result:\n",
    "    print(results)"
   ]
  }
 ],
 "metadata": {
  "kernelspec": {
   "display_name": "Python 3 (ipykernel)",
   "language": "python",
   "name": "python3"
  },
  "language_info": {
   "codemirror_mode": {
    "name": "ipython",
    "version": 3
   },
   "file_extension": ".py",
   "mimetype": "text/x-python",
   "name": "python",
   "nbconvert_exporter": "python",
   "pygments_lexer": "ipython3",
   "version": "3.12.7"
  }
 },
 "nbformat": 4,
 "nbformat_minor": 5
}
